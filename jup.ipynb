{
 "cells": [
  {
   "cell_type": "markdown",
   "metadata": {},
   "source": [
    "first we import the modules that we going to use :"
   ]
  },
  {
   "cell_type": "code",
   "execution_count": 1,
   "metadata": {},
   "outputs": [],
   "source": [
    "import pandas as pd \n",
    "import numpy as np \n",
    "import matplotlib.pyplot as plt \n",
    "import sklearn as sk \n",
    "from pandas.plotting import scatter_matrix\n",
    "from statsmodels.graphics.tsaplots import plot_acf"
   ]
  },
  {
   "cell_type": "markdown",
   "metadata": {},
   "source": [
    "for each swimmer S, we  have a periode a velocity a flagellum_length and a classe Fresh_only (A), Frozen_only (C) or Blebbed (B)"
   ]
  },
  {
   "cell_type": "markdown",
   "metadata": {},
   "source": [
    "we merged all data in a file csv and then we use a Dataframe all_data by extracting the file"
   ]
  },
  {
   "cell_type": "code",
   "execution_count": null,
   "metadata": {},
   "outputs": [],
   "source": [
    "all_data = pd.read_csv(\"all_data.csv\")"
   ]
  },
  {
   "cell_type": "markdown",
   "metadata": {},
   "source": [
    "we calculate the velocity of the swimmer by extracting the min and max amplitude of the mid-point, we then calculte distance between them and finally divide the result by the period of the swimmer "
   ]
  },
  {
   "cell_type": "code",
   "execution_count": 3,
   "metadata": {},
   "outputs": [],
   "source": [
    "def Velocity(data):\n",
    "    Y = data[\"Unnamed: 1500\"]\n",
    "    P = (np.abs(max(Y)-min(Y))/2)/data[\"period\"].dropna()\n",
    "    return P.iloc[0]"
   ]
  },
  {
   "cell_type": "code",
   "execution_count": 5,
   "metadata": {},
   "outputs": [],
   "source": [
    "V = []\n",
    "for i in range(1,217):\n",
    "    path = \"all_data/\"+str(i)+\".csv\"\n",
    "    df = pd.read_csv(path)\n",
    "    Velo = Velocity(df)\n",
    "    V.append(Velo)\n",
    "\n"
   ]
  },
  {
   "cell_type": "markdown",
   "metadata": {},
   "source": [
    "We extracte the class of each swimmer"
   ]
  },
  {
   "cell_type": "code",
   "execution_count": null,
   "metadata": {},
   "outputs": [],
   "source": [
    "classe = pd.read_csv(\"class.csv\")\n",
    "\n",
    "def func(df,i):\n",
    "    if df.iloc[i][\"fresh\"] == 1:\n",
    "        return \"A\"\n",
    "    elif df.iloc[i][\"frozen\"] == 1 and df.iloc[i][\"blebbed\"]:\n",
    "        return \"B\"\n",
    "    else: \n",
    "        return \"C\"\n",
    "    \n",
    "classe_np = [func(classe,item) for item in range(0,216)]\n",
    "classe_np\n"
   ]
  },
  {
   "cell_type": "markdown",
   "metadata": {},
   "source": [
    "We create a new data with the four variable T.P.V.C"
   ]
  },
  {
   "cell_type": "code",
   "execution_count": null,
   "metadata": {},
   "outputs": [],
   "source": [
    "\n",
    "New_all_data = pd.Dataframe({\"periode\" : list(all_data[\"period\"].dropna()),\n",
    "        \"flagellum_length\" : list(all_data[\"flagellum_length\"].dropna()),\n",
    "        \"Velocity\" : V, \n",
    "        \"Class\" : classe_np})"
   ]
  },
  {
   "cell_type": "markdown",
   "metadata": {},
   "source": [
    "Here we use K-mean cluster to classifie data "
   ]
  },
  {
   "cell_type": "code",
   "execution_count": null,
   "metadata": {},
   "outputs": [],
   "source": [
    "from sklearn.decomposition import PCA\n",
    "from sklearn.cluster import KMeans \n",
    "from sklearn.datasets import load_digits\n",
    "\n",
    "spespe_A = Class_A[[\"Velocity\",\"periode\",\"flagellum_length\"]]\n",
    "a = np.array([spespe_A.iloc[0]])\n",
    "for i in range(1,79):\n",
    "    a = np.vstack([a,spespe_A.iloc[i]])\n",
    "\n",
    "pca = PCA(2)\n",
    "df = pca.fit_transform(a)\n",
    "\n",
    "\n",
    "kmeans = KMeans(n_clusters= 2)\n",
    "#predict the labels of clusters.\n",
    "label = kmeans.fit_predict(df)\n",
    "\n",
    "\n",
    "u_labels = np.unique(label)\n",
    "\n"
   ]
  }
 ],
 "metadata": {
  "kernelspec": {
   "display_name": "env310",
   "language": "python",
   "name": "python3"
  },
  "language_info": {
   "codemirror_mode": {
    "name": "ipython",
    "version": 3
   },
   "file_extension": ".py",
   "mimetype": "text/x-python",
   "name": "python",
   "nbconvert_exporter": "python",
   "pygments_lexer": "ipython3",
   "version": "3.10.8"
  }
 },
 "nbformat": 4,
 "nbformat_minor": 2
}
